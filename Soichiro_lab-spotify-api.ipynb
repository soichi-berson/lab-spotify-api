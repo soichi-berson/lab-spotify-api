{
 "cells": [
  {
   "cell_type": "markdown",
   "id": "e0458e58",
   "metadata": {},
   "source": [
    "# Lab-spotify-api\n"
   ]
  },
  {
   "cell_type": "code",
   "execution_count": 1,
   "id": "2dd9c7cc",
   "metadata": {},
   "outputs": [],
   "source": [
    "from bs4 import BeautifulSoup\n",
    "import pandas as pd \n",
    "import numpy as np\n",
    "import requests"
   ]
  },
  {
   "cell_type": "markdown",
   "id": "6b9c899f",
   "metadata": {},
   "source": [
    "#### previous lab"
   ]
  },
  {
   "cell_type": "code",
   "execution_count": 2,
   "id": "ebe5753b",
   "metadata": {},
   "outputs": [],
   "source": [
    "nothot100 = pd.read_csv(\"Spotify_final_dataset.csv\")"
   ]
  },
  {
   "cell_type": "code",
   "execution_count": 3,
   "id": "982449c1",
   "metadata": {},
   "outputs": [
    {
     "data": {
      "text/html": [
       "<div>\n",
       "<style scoped>\n",
       "    .dataframe tbody tr th:only-of-type {\n",
       "        vertical-align: middle;\n",
       "    }\n",
       "\n",
       "    .dataframe tbody tr th {\n",
       "        vertical-align: top;\n",
       "    }\n",
       "\n",
       "    .dataframe thead th {\n",
       "        text-align: right;\n",
       "    }\n",
       "</style>\n",
       "<table border=\"1\" class=\"dataframe\">\n",
       "  <thead>\n",
       "    <tr style=\"text-align: right;\">\n",
       "      <th></th>\n",
       "      <th>Position</th>\n",
       "      <th>Artist Name</th>\n",
       "      <th>Song Name</th>\n",
       "      <th>Days</th>\n",
       "      <th>Top 10 (xTimes)</th>\n",
       "      <th>Peak Position</th>\n",
       "      <th>Peak Position (xTimes)</th>\n",
       "      <th>Peak Streams</th>\n",
       "      <th>Total Streams</th>\n",
       "    </tr>\n",
       "  </thead>\n",
       "  <tbody>\n",
       "    <tr>\n",
       "      <th>0</th>\n",
       "      <td>1</td>\n",
       "      <td>Post Malone</td>\n",
       "      <td>Sunflower  SpiderMan: Into the SpiderVerse</td>\n",
       "      <td>1506</td>\n",
       "      <td>302.0</td>\n",
       "      <td>1</td>\n",
       "      <td>(x29)</td>\n",
       "      <td>2118242</td>\n",
       "      <td>883369738</td>\n",
       "    </tr>\n",
       "    <tr>\n",
       "      <th>1</th>\n",
       "      <td>2</td>\n",
       "      <td>Juice WRLD</td>\n",
       "      <td>Lucid Dreams</td>\n",
       "      <td>1673</td>\n",
       "      <td>178.0</td>\n",
       "      <td>1</td>\n",
       "      <td>(x20)</td>\n",
       "      <td>2127668</td>\n",
       "      <td>864832399</td>\n",
       "    </tr>\n",
       "    <tr>\n",
       "      <th>2</th>\n",
       "      <td>3</td>\n",
       "      <td>Lil Uzi Vert</td>\n",
       "      <td>XO TOUR Llif3</td>\n",
       "      <td>1853</td>\n",
       "      <td>212.0</td>\n",
       "      <td>1</td>\n",
       "      <td>(x4)</td>\n",
       "      <td>1660502</td>\n",
       "      <td>781153024</td>\n",
       "    </tr>\n",
       "    <tr>\n",
       "      <th>3</th>\n",
       "      <td>4</td>\n",
       "      <td>J. Cole</td>\n",
       "      <td>No Role Modelz</td>\n",
       "      <td>2547</td>\n",
       "      <td>6.0</td>\n",
       "      <td>7</td>\n",
       "      <td>0</td>\n",
       "      <td>659366</td>\n",
       "      <td>734857487</td>\n",
       "    </tr>\n",
       "    <tr>\n",
       "      <th>4</th>\n",
       "      <td>5</td>\n",
       "      <td>Post Malone</td>\n",
       "      <td>rockstar</td>\n",
       "      <td>1223</td>\n",
       "      <td>186.0</td>\n",
       "      <td>1</td>\n",
       "      <td>(x124)</td>\n",
       "      <td>2905678</td>\n",
       "      <td>718865961</td>\n",
       "    </tr>\n",
       "  </tbody>\n",
       "</table>\n",
       "</div>"
      ],
      "text/plain": [
       "   Position    Artist Name                                   Song Name  Days  \\\n",
       "0         1   Post Malone   Sunflower  SpiderMan: Into the SpiderVerse  1506   \n",
       "1         2    Juice WRLD                                 Lucid Dreams  1673   \n",
       "2         3  Lil Uzi Vert                                XO TOUR Llif3  1853   \n",
       "3         4       J. Cole                               No Role Modelz  2547   \n",
       "4         5   Post Malone                                     rockstar  1223   \n",
       "\n",
       "   Top 10 (xTimes)  Peak Position Peak Position (xTimes)  Peak Streams  \\\n",
       "0            302.0              1                  (x29)       2118242   \n",
       "1            178.0              1                  (x20)       2127668   \n",
       "2            212.0              1                   (x4)       1660502   \n",
       "3              6.0              7                      0        659366   \n",
       "4            186.0              1                 (x124)       2905678   \n",
       "\n",
       "   Total Streams  \n",
       "0      883369738  \n",
       "1      864832399  \n",
       "2      781153024  \n",
       "3      734857487  \n",
       "4      718865961  "
      ]
     },
     "execution_count": 3,
     "metadata": {},
     "output_type": "execute_result"
    }
   ],
   "source": [
    "nothot100.head()"
   ]
  },
  {
   "cell_type": "code",
   "execution_count": 4,
   "id": "0e5efd2b",
   "metadata": {},
   "outputs": [],
   "source": [
    "nothot100 = nothot100.sample(2500)"
   ]
  },
  {
   "cell_type": "code",
   "execution_count": 5,
   "id": "903e2400",
   "metadata": {},
   "outputs": [],
   "source": [
    "nothot100 = nothot100[[\"Artist Name\",\"Song Name\"]]"
   ]
  },
  {
   "cell_type": "code",
   "execution_count": 6,
   "id": "3728e9fd",
   "metadata": {},
   "outputs": [],
   "source": [
    "nothot100 = nothot100.rename(columns={'Artist Name': 'Artist', 'Song Name': 'Title'})"
   ]
  },
  {
   "cell_type": "code",
   "execution_count": 7,
   "id": "e10366d7",
   "metadata": {},
   "outputs": [],
   "source": [
    "hot100 = pd.read_csv(\"hot100.csv\")"
   ]
  },
  {
   "cell_type": "code",
   "execution_count": 8,
   "id": "24bd425e",
   "metadata": {},
   "outputs": [],
   "source": [
    "concatenated_df = pd.concat([hot100, nothot100]).drop_duplicates()"
   ]
  },
  {
   "cell_type": "code",
   "execution_count": null,
   "id": "8ee56e0b",
   "metadata": {},
   "outputs": [],
   "source": []
  },
  {
   "cell_type": "code",
   "execution_count": 9,
   "id": "510f49f5",
   "metadata": {},
   "outputs": [],
   "source": [
    "concatenated_df = concatenated_df.reset_index(drop=True)"
   ]
  },
  {
   "cell_type": "code",
   "execution_count": 10,
   "id": "51b8c1c5",
   "metadata": {},
   "outputs": [
    {
     "data": {
      "text/html": [
       "<div>\n",
       "<style scoped>\n",
       "    .dataframe tbody tr th:only-of-type {\n",
       "        vertical-align: middle;\n",
       "    }\n",
       "\n",
       "    .dataframe tbody tr th {\n",
       "        vertical-align: top;\n",
       "    }\n",
       "\n",
       "    .dataframe thead th {\n",
       "        text-align: right;\n",
       "    }\n",
       "</style>\n",
       "<table border=\"1\" class=\"dataframe\">\n",
       "  <thead>\n",
       "    <tr style=\"text-align: right;\">\n",
       "      <th></th>\n",
       "      <th>Artist</th>\n",
       "      <th>Title</th>\n",
       "    </tr>\n",
       "  </thead>\n",
       "  <tbody>\n",
       "    <tr>\n",
       "      <th>0</th>\n",
       "      <td>Olivia Rodrigo</td>\n",
       "      <td>Vampire</td>\n",
       "    </tr>\n",
       "    <tr>\n",
       "      <th>1</th>\n",
       "      <td>Morgan Wallen</td>\n",
       "      <td>Last Night</td>\n",
       "    </tr>\n",
       "    <tr>\n",
       "      <th>2</th>\n",
       "      <td>Luke Combs</td>\n",
       "      <td>Fast Car</td>\n",
       "    </tr>\n",
       "    <tr>\n",
       "      <th>3</th>\n",
       "      <td>Rema &amp; Selena Gomez</td>\n",
       "      <td>Calm Down</td>\n",
       "    </tr>\n",
       "    <tr>\n",
       "      <th>4</th>\n",
       "      <td>Miley Cyrus</td>\n",
       "      <td>Flowers</td>\n",
       "    </tr>\n",
       "    <tr>\n",
       "      <th>...</th>\n",
       "      <td>...</td>\n",
       "      <td>...</td>\n",
       "    </tr>\n",
       "    <tr>\n",
       "      <th>2589</th>\n",
       "      <td>Chucho Flash</td>\n",
       "      <td>Tu Sabes Que Te Quiero</td>\n",
       "    </tr>\n",
       "    <tr>\n",
       "      <th>2590</th>\n",
       "      <td>One Direction</td>\n",
       "      <td>You &amp; I</td>\n",
       "    </tr>\n",
       "    <tr>\n",
       "      <th>2591</th>\n",
       "      <td>Lizzo</td>\n",
       "      <td>Soulmate</td>\n",
       "    </tr>\n",
       "    <tr>\n",
       "      <th>2592</th>\n",
       "      <td>Lil Uzi Vert</td>\n",
       "      <td>Secure The Bag</td>\n",
       "    </tr>\n",
       "    <tr>\n",
       "      <th>2593</th>\n",
       "      <td>Summer Walker</td>\n",
       "      <td>4th Baby Mama  Prelude</td>\n",
       "    </tr>\n",
       "  </tbody>\n",
       "</table>\n",
       "<p>2594 rows × 2 columns</p>\n",
       "</div>"
      ],
      "text/plain": [
       "                   Artist                   Title\n",
       "0          Olivia Rodrigo                 Vampire\n",
       "1           Morgan Wallen              Last Night\n",
       "2              Luke Combs                Fast Car\n",
       "3     Rema & Selena Gomez               Calm Down\n",
       "4             Miley Cyrus                 Flowers\n",
       "...                   ...                     ...\n",
       "2589        Chucho Flash   Tu Sabes Que Te Quiero\n",
       "2590       One Direction                  You & I\n",
       "2591               Lizzo                 Soulmate\n",
       "2592        Lil Uzi Vert           Secure The Bag\n",
       "2593       Summer Walker   4th Baby Mama  Prelude\n",
       "\n",
       "[2594 rows x 2 columns]"
      ]
     },
     "execution_count": 10,
     "metadata": {},
     "output_type": "execute_result"
    }
   ],
   "source": [
    "concatenated_df"
   ]
  },
  {
   "cell_type": "code",
   "execution_count": 11,
   "id": "7af352da",
   "metadata": {},
   "outputs": [],
   "source": [
    "data = concatenated_df.copy()"
   ]
  },
  {
   "cell_type": "markdown",
   "id": "4b715732",
   "metadata": {},
   "source": [
    "### Lab Spotify api"
   ]
  },
  {
   "cell_type": "code",
   "execution_count": 12,
   "id": "0b46ae90",
   "metadata": {},
   "outputs": [],
   "source": [
    "from credencials import *"
   ]
  },
  {
   "cell_type": "code",
   "execution_count": 13,
   "id": "334b5aa7",
   "metadata": {},
   "outputs": [],
   "source": [
    "import spotipy\n",
    "import json\n",
    "from spotipy.oauth2 import SpotifyClientCredentials\n",
    "\n",
    "sp = spotipy.Spotify(auth_manager=SpotifyClientCredentials(client_id=client_id,\n",
    "                                                           client_secret=client_secret))"
   ]
  },
  {
   "cell_type": "code",
   "execution_count": 14,
   "id": "23f4e126",
   "metadata": {},
   "outputs": [
    {
     "data": {
      "text/html": [
       "<div>\n",
       "<style scoped>\n",
       "    .dataframe tbody tr th:only-of-type {\n",
       "        vertical-align: middle;\n",
       "    }\n",
       "\n",
       "    .dataframe tbody tr th {\n",
       "        vertical-align: top;\n",
       "    }\n",
       "\n",
       "    .dataframe thead th {\n",
       "        text-align: right;\n",
       "    }\n",
       "</style>\n",
       "<table border=\"1\" class=\"dataframe\">\n",
       "  <thead>\n",
       "    <tr style=\"text-align: right;\">\n",
       "      <th></th>\n",
       "      <th>Artist</th>\n",
       "      <th>Title</th>\n",
       "    </tr>\n",
       "  </thead>\n",
       "  <tbody>\n",
       "    <tr>\n",
       "      <th>0</th>\n",
       "      <td>Olivia Rodrigo</td>\n",
       "      <td>Vampire</td>\n",
       "    </tr>\n",
       "  </tbody>\n",
       "</table>\n",
       "</div>"
      ],
      "text/plain": [
       "           Artist    Title\n",
       "0  Olivia Rodrigo  Vampire"
      ]
     },
     "execution_count": 14,
     "metadata": {},
     "output_type": "execute_result"
    }
   ],
   "source": [
    "data1 = data.head(1)\n",
    "data1"
   ]
  },
  {
   "cell_type": "code",
   "execution_count": 15,
   "id": "c464b6f1",
   "metadata": {},
   "outputs": [],
   "source": [
    "def search_song(title, artist):\n",
    "    \n",
    "    query = \"tracks: \"+title+\" artist: \"+artist\n",
    "    #print(query)\n",
    "\n",
    "    try:\n",
    "        result = sp.search(query, limit=1)\n",
    "        song_id = result['tracks']['items'][0]['id']\n",
    "    except:\n",
    "        song_id = \"not_found\"\n",
    "\n",
    "    return song_id  "
   ]
  },
  {
   "cell_type": "code",
   "execution_count": 16,
   "id": "49182c92",
   "metadata": {},
   "outputs": [
    {
     "data": {
      "text/plain": [
       "'1AynHbA5tcynFDplpCY5lz'"
      ]
     },
     "execution_count": 16,
     "metadata": {},
     "output_type": "execute_result"
    }
   ],
   "source": [
    "search_song(\"Hello\", \"Adele\")"
   ]
  },
  {
   "cell_type": "code",
   "execution_count": 17,
   "id": "6b1de947",
   "metadata": {},
   "outputs": [
    {
     "data": {
      "text/plain": [
       "Artist    0\n",
       "Title     0\n",
       "dtype: int64"
      ]
     },
     "execution_count": 17,
     "metadata": {},
     "output_type": "execute_result"
    }
   ],
   "source": [
    "df1 = hot100\n",
    "df2 = nothot100\n",
    "df2.isnull().sum()"
   ]
  },
  {
   "cell_type": "code",
   "execution_count": 18,
   "id": "20d83476",
   "metadata": {},
   "outputs": [
    {
     "data": {
      "text/plain": [
       "100"
      ]
     },
     "execution_count": 18,
     "metadata": {},
     "output_type": "execute_result"
    }
   ],
   "source": [
    "len(df1)"
   ]
  },
  {
   "cell_type": "code",
   "execution_count": 19,
   "id": "48b9f2b6",
   "metadata": {},
   "outputs": [
    {
     "data": {
      "text/plain": [
       "2500"
      ]
     },
     "execution_count": 19,
     "metadata": {},
     "output_type": "execute_result"
    }
   ],
   "source": [
    "df2 = df2.dropna()\n",
    "len(df2)"
   ]
  },
  {
   "cell_type": "code",
   "execution_count": 20,
   "id": "ed870ebf",
   "metadata": {},
   "outputs": [],
   "source": [
    "# create groups fo 50 song for df1\n",
    "chunks_df1 = [df1.iloc[i:i+50] for i in range(0, len(df1), 50)]"
   ]
  },
  {
   "cell_type": "code",
   "execution_count": 21,
   "id": "1be06e00",
   "metadata": {},
   "outputs": [],
   "source": [
    "chunks_df2 = [df2[i:i + 50] for i in range(0, len(df2), 50)]\n"
   ]
  },
  {
   "cell_type": "markdown",
   "id": "0da2009e",
   "metadata": {},
   "source": [
    "#### df1"
   ]
  },
  {
   "cell_type": "code",
   "execution_count": 22,
   "id": "64d699c3",
   "metadata": {},
   "outputs": [
    {
     "name": "stdout",
     "output_type": "stream",
     "text": [
      "finished\n"
     ]
    }
   ],
   "source": [
    "#create the list\n",
    "import time\n",
    "song_ids_df1 = []\n",
    "for chunk in chunks_df1:\n",
    "    for index, row in chunk.iterrows():\n",
    "        song_id = search_song(row[\"Title\"], row[\"Artist\"])\n",
    "        if song_id == 'not_found':\n",
    "            print(\"yes\")\n",
    "        song_ids_df1.append(song_id)\n",
    "    time.sleep(20)\n",
    "print('finished')"
   ]
  },
  {
   "cell_type": "code",
   "execution_count": 23,
   "id": "2a4cd00f",
   "metadata": {},
   "outputs": [
    {
     "data": {
      "text/plain": [
       "100"
      ]
     },
     "execution_count": 23,
     "metadata": {},
     "output_type": "execute_result"
    }
   ],
   "source": [
    "len(song_ids_df1)"
   ]
  },
  {
   "cell_type": "code",
   "execution_count": 24,
   "id": "5b6df1a8",
   "metadata": {},
   "outputs": [],
   "source": [
    "## apply get_audio_features\n",
    "def get_audio_features(list_of_song_ids):\n",
    "    \n",
    "    chunks = [list_of_song_ids[i:i + 50] for i in range(0, len(list_of_song_ids), 50)]\n",
    "    \n",
    "    # Create a dictionary to store the audio features\n",
    "    audio_features_dict = {\n",
    "        'id': [],\n",
    "        'danceability': [],\n",
    "        'energy': [],\n",
    "        'key': [],\n",
    "        'loudness': [],\n",
    "        'mode': [],\n",
    "        'speechiness': [],\n",
    "        'acousticness': [],\n",
    "        'instrumentalness': [],\n",
    "        'liveness': [],\n",
    "        'valence': [],\n",
    "        'tempo': [],\n",
    "        'type': [],\n",
    "        'uri': [],\n",
    "        'track_href': [],\n",
    "        'analysis_url': [],\n",
    "        'duration_ms': [],\n",
    "        'time_signature': []\n",
    "    }\n",
    "    \n",
    "    # Retrieve the audio features for each chunk\n",
    "    for chunk in chunks:\n",
    "        audio_features = sp.audio_features(chunk)\n",
    "        \n",
    "        # Append the audio features to the dictionary\n",
    "        for feature in audio_features:\n",
    "            if feature:\n",
    "                for key in audio_features_dict.keys():\n",
    "                    audio_features_dict[key].append(feature[key])\n",
    "        \n",
    "        # Wait 20 seconds before next API call\n",
    "        time.sleep(20)\n",
    "\n",
    "    # Create a DataFrame from the dictionary\n",
    "    df = pd.DataFrame(audio_features_dict)\n",
    "\n",
    "    return df"
   ]
  },
  {
   "cell_type": "code",
   "execution_count": 25,
   "id": "d67d3b53",
   "metadata": {},
   "outputs": [
    {
     "data": {
      "text/plain": [
       "100"
      ]
     },
     "execution_count": 25,
     "metadata": {},
     "output_type": "execute_result"
    }
   ],
   "source": [
    "df3 = get_audio_features(song_ids_df1)\n",
    "len(df3)"
   ]
  },
  {
   "cell_type": "code",
   "execution_count": 26,
   "id": "88a10a3b",
   "metadata": {},
   "outputs": [
    {
     "data": {
      "text/html": [
       "<div>\n",
       "<style scoped>\n",
       "    .dataframe tbody tr th:only-of-type {\n",
       "        vertical-align: middle;\n",
       "    }\n",
       "\n",
       "    .dataframe tbody tr th {\n",
       "        vertical-align: top;\n",
       "    }\n",
       "\n",
       "    .dataframe thead th {\n",
       "        text-align: right;\n",
       "    }\n",
       "</style>\n",
       "<table border=\"1\" class=\"dataframe\">\n",
       "  <thead>\n",
       "    <tr style=\"text-align: right;\">\n",
       "      <th></th>\n",
       "      <th>Artist</th>\n",
       "      <th>Title</th>\n",
       "      <th>id</th>\n",
       "      <th>danceability</th>\n",
       "      <th>energy</th>\n",
       "      <th>key</th>\n",
       "      <th>loudness</th>\n",
       "      <th>mode</th>\n",
       "      <th>speechiness</th>\n",
       "      <th>acousticness</th>\n",
       "      <th>instrumentalness</th>\n",
       "      <th>liveness</th>\n",
       "      <th>valence</th>\n",
       "      <th>tempo</th>\n",
       "      <th>type</th>\n",
       "      <th>uri</th>\n",
       "      <th>track_href</th>\n",
       "      <th>analysis_url</th>\n",
       "      <th>duration_ms</th>\n",
       "      <th>time_signature</th>\n",
       "    </tr>\n",
       "  </thead>\n",
       "  <tbody>\n",
       "    <tr>\n",
       "      <th>0</th>\n",
       "      <td>Olivia Rodrigo</td>\n",
       "      <td>Vampire</td>\n",
       "      <td>4sSKTQcX6pQIncWcNJdkiD</td>\n",
       "      <td>0.675</td>\n",
       "      <td>0.609</td>\n",
       "      <td>1</td>\n",
       "      <td>-7.905</td>\n",
       "      <td>1</td>\n",
       "      <td>0.0940</td>\n",
       "      <td>0.2840</td>\n",
       "      <td>0.268000</td>\n",
       "      <td>0.112</td>\n",
       "      <td>0.057</td>\n",
       "      <td>119.973</td>\n",
       "      <td>audio_features</td>\n",
       "      <td>spotify:track:4sSKTQcX6pQIncWcNJdkiD</td>\n",
       "      <td>https://api.spotify.com/v1/tracks/4sSKTQcX6pQI...</td>\n",
       "      <td>https://api.spotify.com/v1/audio-analysis/4sSK...</td>\n",
       "      <td>300000</td>\n",
       "      <td>4</td>\n",
       "    </tr>\n",
       "    <tr>\n",
       "      <th>1</th>\n",
       "      <td>Morgan Wallen</td>\n",
       "      <td>Last Night</td>\n",
       "      <td>59uQI0PADDKeE6UZDTJEe8</td>\n",
       "      <td>0.517</td>\n",
       "      <td>0.675</td>\n",
       "      <td>6</td>\n",
       "      <td>-5.382</td>\n",
       "      <td>1</td>\n",
       "      <td>0.0357</td>\n",
       "      <td>0.4590</td>\n",
       "      <td>0.000000</td>\n",
       "      <td>0.151</td>\n",
       "      <td>0.518</td>\n",
       "      <td>203.853</td>\n",
       "      <td>audio_features</td>\n",
       "      <td>spotify:track:59uQI0PADDKeE6UZDTJEe8</td>\n",
       "      <td>https://api.spotify.com/v1/tracks/59uQI0PADDKe...</td>\n",
       "      <td>https://api.spotify.com/v1/audio-analysis/59uQ...</td>\n",
       "      <td>163855</td>\n",
       "      <td>4</td>\n",
       "    </tr>\n",
       "    <tr>\n",
       "      <th>2</th>\n",
       "      <td>Luke Combs</td>\n",
       "      <td>Fast Car</td>\n",
       "      <td>2M9ro2krNb7nr7HSprkEgo</td>\n",
       "      <td>0.711</td>\n",
       "      <td>0.292</td>\n",
       "      <td>4</td>\n",
       "      <td>-15.523</td>\n",
       "      <td>0</td>\n",
       "      <td>0.0370</td>\n",
       "      <td>0.3130</td>\n",
       "      <td>0.000000</td>\n",
       "      <td>0.131</td>\n",
       "      <td>0.194</td>\n",
       "      <td>103.951</td>\n",
       "      <td>audio_features</td>\n",
       "      <td>spotify:track:2M9ro2krNb7nr7HSprkEgo</td>\n",
       "      <td>https://api.spotify.com/v1/tracks/2M9ro2krNb7n...</td>\n",
       "      <td>https://api.spotify.com/v1/audio-analysis/2M9r...</td>\n",
       "      <td>296800</td>\n",
       "      <td>4</td>\n",
       "    </tr>\n",
       "    <tr>\n",
       "      <th>3</th>\n",
       "      <td>Rema &amp; Selena Gomez</td>\n",
       "      <td>Calm Down</td>\n",
       "      <td>0WtM2NBVQNNJLh6scP13H8</td>\n",
       "      <td>0.801</td>\n",
       "      <td>0.806</td>\n",
       "      <td>11</td>\n",
       "      <td>-5.206</td>\n",
       "      <td>1</td>\n",
       "      <td>0.0381</td>\n",
       "      <td>0.3820</td>\n",
       "      <td>0.000669</td>\n",
       "      <td>0.114</td>\n",
       "      <td>0.802</td>\n",
       "      <td>106.999</td>\n",
       "      <td>audio_features</td>\n",
       "      <td>spotify:track:0WtM2NBVQNNJLh6scP13H8</td>\n",
       "      <td>https://api.spotify.com/v1/tracks/0WtM2NBVQNNJ...</td>\n",
       "      <td>https://api.spotify.com/v1/audio-analysis/0WtM...</td>\n",
       "      <td>239318</td>\n",
       "      <td>4</td>\n",
       "    </tr>\n",
       "    <tr>\n",
       "      <th>4</th>\n",
       "      <td>Miley Cyrus</td>\n",
       "      <td>Flowers</td>\n",
       "      <td>6ugrRFZUNIpLiqhLUgC7ix</td>\n",
       "      <td>0.838</td>\n",
       "      <td>0.364</td>\n",
       "      <td>7</td>\n",
       "      <td>-10.006</td>\n",
       "      <td>1</td>\n",
       "      <td>0.1340</td>\n",
       "      <td>0.0849</td>\n",
       "      <td>0.981000</td>\n",
       "      <td>0.260</td>\n",
       "      <td>0.218</td>\n",
       "      <td>79.987</td>\n",
       "      <td>audio_features</td>\n",
       "      <td>spotify:track:6ugrRFZUNIpLiqhLUgC7ix</td>\n",
       "      <td>https://api.spotify.com/v1/tracks/6ugrRFZUNIpL...</td>\n",
       "      <td>https://api.spotify.com/v1/audio-analysis/6ugr...</td>\n",
       "      <td>187828</td>\n",
       "      <td>4</td>\n",
       "    </tr>\n",
       "  </tbody>\n",
       "</table>\n",
       "</div>"
      ],
      "text/plain": [
       "                Artist       Title                      id  danceability  \\\n",
       "0       Olivia Rodrigo     Vampire  4sSKTQcX6pQIncWcNJdkiD         0.675   \n",
       "1        Morgan Wallen  Last Night  59uQI0PADDKeE6UZDTJEe8         0.517   \n",
       "2           Luke Combs    Fast Car  2M9ro2krNb7nr7HSprkEgo         0.711   \n",
       "3  Rema & Selena Gomez   Calm Down  0WtM2NBVQNNJLh6scP13H8         0.801   \n",
       "4          Miley Cyrus     Flowers  6ugrRFZUNIpLiqhLUgC7ix         0.838   \n",
       "\n",
       "   energy  key  loudness  mode  speechiness  acousticness  instrumentalness  \\\n",
       "0   0.609    1    -7.905     1       0.0940        0.2840          0.268000   \n",
       "1   0.675    6    -5.382     1       0.0357        0.4590          0.000000   \n",
       "2   0.292    4   -15.523     0       0.0370        0.3130          0.000000   \n",
       "3   0.806   11    -5.206     1       0.0381        0.3820          0.000669   \n",
       "4   0.364    7   -10.006     1       0.1340        0.0849          0.981000   \n",
       "\n",
       "   liveness  valence    tempo            type  \\\n",
       "0     0.112    0.057  119.973  audio_features   \n",
       "1     0.151    0.518  203.853  audio_features   \n",
       "2     0.131    0.194  103.951  audio_features   \n",
       "3     0.114    0.802  106.999  audio_features   \n",
       "4     0.260    0.218   79.987  audio_features   \n",
       "\n",
       "                                    uri  \\\n",
       "0  spotify:track:4sSKTQcX6pQIncWcNJdkiD   \n",
       "1  spotify:track:59uQI0PADDKeE6UZDTJEe8   \n",
       "2  spotify:track:2M9ro2krNb7nr7HSprkEgo   \n",
       "3  spotify:track:0WtM2NBVQNNJLh6scP13H8   \n",
       "4  spotify:track:6ugrRFZUNIpLiqhLUgC7ix   \n",
       "\n",
       "                                          track_href  \\\n",
       "0  https://api.spotify.com/v1/tracks/4sSKTQcX6pQI...   \n",
       "1  https://api.spotify.com/v1/tracks/59uQI0PADDKe...   \n",
       "2  https://api.spotify.com/v1/tracks/2M9ro2krNb7n...   \n",
       "3  https://api.spotify.com/v1/tracks/0WtM2NBVQNNJ...   \n",
       "4  https://api.spotify.com/v1/tracks/6ugrRFZUNIpL...   \n",
       "\n",
       "                                        analysis_url  duration_ms  \\\n",
       "0  https://api.spotify.com/v1/audio-analysis/4sSK...       300000   \n",
       "1  https://api.spotify.com/v1/audio-analysis/59uQ...       163855   \n",
       "2  https://api.spotify.com/v1/audio-analysis/2M9r...       296800   \n",
       "3  https://api.spotify.com/v1/audio-analysis/0WtM...       239318   \n",
       "4  https://api.spotify.com/v1/audio-analysis/6ugr...       187828   \n",
       "\n",
       "   time_signature  \n",
       "0               4  \n",
       "1               4  \n",
       "2               4  \n",
       "3               4  \n",
       "4               4  "
      ]
     },
     "execution_count": 26,
     "metadata": {},
     "output_type": "execute_result"
    }
   ],
   "source": [
    "result = pd.concat([df1, df3], axis=1)\n",
    "result.head()"
   ]
  },
  {
   "cell_type": "code",
   "execution_count": 27,
   "id": "c92f4128",
   "metadata": {},
   "outputs": [
    {
     "data": {
      "text/plain": [
       "(100, 20)"
      ]
     },
     "execution_count": 27,
     "metadata": {},
     "output_type": "execute_result"
    }
   ],
   "source": [
    "result.shape"
   ]
  },
  {
   "cell_type": "code",
   "execution_count": 28,
   "id": "a31ae711",
   "metadata": {},
   "outputs": [],
   "source": [
    "# create the function accoding to the result\n",
    "def add_audio_features(df: pd.DataFrame, audio_features_df: pd.DataFrame):\n",
    "    '''\n",
    "    This fucntion concatanates two dataframes.\n",
    "    Input pd.Dataframe\n",
    "    Output None\n",
    "    '''\n",
    "    result = pd.concat([df, audio_features_df], axis=1)\n",
    "    name = 'merged_songs' + str(len(result)) + '.csv'\n",
    "    result.to_csv(name, index=False)\n",
    "    "
   ]
  },
  {
   "cell_type": "code",
   "execution_count": 29,
   "id": "a4dafd15",
   "metadata": {},
   "outputs": [],
   "source": [
    "add_audio_features(df1, df3)"
   ]
  },
  {
   "cell_type": "markdown",
   "id": "d0409256",
   "metadata": {},
   "source": [
    "### df2"
   ]
  },
  {
   "cell_type": "code",
   "execution_count": 30,
   "id": "c5497c0e",
   "metadata": {},
   "outputs": [
    {
     "name": "stdout",
     "output_type": "stream",
     "text": [
      "yes\n",
      "yes\n",
      "yes\n",
      "yes\n",
      "yes\n",
      "yes\n",
      "yes\n",
      "yes\n",
      "yes\n",
      "yes\n",
      "yes\n",
      "yes\n",
      "finished\n"
     ]
    }
   ],
   "source": [
    "#df2\n",
    "import time\n",
    "song_ids_df2 = []\n",
    "for chunk in chunks_df2:\n",
    "    for index, row in chunk.iterrows():\n",
    "        song_id = search_song(row[\"Title\"], row[\"Artist\"])\n",
    "        if song_id == 'not_found':\n",
    "            print(\"yes\")\n",
    "        song_ids_df2.append(song_id)\n",
    "    time.sleep(20)\n",
    "print('finished')"
   ]
  },
  {
   "cell_type": "code",
   "execution_count": 31,
   "id": "d7b31b64",
   "metadata": {},
   "outputs": [
    {
     "data": {
      "text/plain": [
       "2500"
      ]
     },
     "execution_count": 31,
     "metadata": {},
     "output_type": "execute_result"
    }
   ],
   "source": [
    "len(song_ids_df2)"
   ]
  },
  {
   "cell_type": "code",
   "execution_count": 55,
   "id": "a4cbfd9e",
   "metadata": {},
   "outputs": [
    {
     "data": {
      "text/plain": [
       "[73, 420, 596, 843, 877, 1109, 1196, 1509, 1762, 2034, 2091, 2371]"
      ]
     },
     "execution_count": 55,
     "metadata": {},
     "output_type": "execute_result"
    }
   ],
   "source": [
    "#to get the index which has 'not_found'\n",
    "index_list = []\n",
    "for i in range(0,2500):\n",
    "    if song_ids_df2[i] == 'not_found':\n",
    "        index_list.append(i)\n",
    "index_list    "
   ]
  },
  {
   "cell_type": "code",
   "execution_count": 33,
   "id": "c2d72bda",
   "metadata": {},
   "outputs": [
    {
     "data": {
      "text/plain": [
       "2488"
      ]
     },
     "execution_count": 33,
     "metadata": {},
     "output_type": "execute_result"
    }
   ],
   "source": [
    "song_ids_df3 = song_ids_df2.copy()\n",
    "#remove 'not_found' values \n",
    "song_ids_df3 = [x for x in song_ids_df3 if x != 'not_found']\n",
    "len(song_ids_df3)"
   ]
  },
  {
   "cell_type": "code",
   "execution_count": 34,
   "id": "ce31f6bb",
   "metadata": {},
   "outputs": [
    {
     "data": {
      "text/plain": [
       "2488"
      ]
     },
     "execution_count": 34,
     "metadata": {},
     "output_type": "execute_result"
    }
   ],
   "source": [
    "# remove specific rows based on the given indices\n",
    "df8 = df2.copy()\n",
    "df9 = df8.reset_index(drop=True)\n",
    "df10 = df9.drop(index_list)\n",
    "len(df10)\n"
   ]
  },
  {
   "cell_type": "code",
   "execution_count": 35,
   "id": "97852175",
   "metadata": {},
   "outputs": [],
   "source": [
    "df11 = get_audio_features(song_ids_df3)"
   ]
  },
  {
   "cell_type": "code",
   "execution_count": 37,
   "id": "a787b889",
   "metadata": {},
   "outputs": [
    {
     "data": {
      "text/plain": [
       "2486"
      ]
     },
     "execution_count": 37,
     "metadata": {},
     "output_type": "execute_result"
    }
   ],
   "source": [
    "len(df11)"
   ]
  },
  {
   "cell_type": "code",
   "execution_count": 46,
   "id": "be54fc98",
   "metadata": {},
   "outputs": [
    {
     "name": "stdout",
     "output_type": "stream",
     "text": [
      "6yqkj5RfE5vOHf4vwCt6m0\n",
      "43RQWXKpp5mSWt0i2DGOTx\n"
     ]
    }
   ],
   "source": [
    "# some Ids are missed. So, I search the value. \n",
    "for i in song_ids_df3:\n",
    "    if i not in df11['id'].valslues:\n",
    "        print(i)"
   ]
  },
  {
   "cell_type": "code",
   "execution_count": 49,
   "id": "3125d23a",
   "metadata": {},
   "outputs": [
    {
     "data": {
      "text/plain": [
       "[592, 1710]"
      ]
     },
     "execution_count": 49,
     "metadata": {},
     "output_type": "execute_result"
    }
   ],
   "source": [
    "#get the index which are not included in df11 but in song_ids_df3 \n",
    "index_list2 = []\n",
    "for i in range(0,2488):\n",
    "    if (song_ids_df3[i] == '6yqkj5RfE5vOHf4vwCt6m0') or (song_ids_df3[i] == '43RQWXKpp5mSWt0i2DGOTx'):\n",
    "        index_list2.append(i)\n",
    "index_list2"
   ]
  },
  {
   "cell_type": "code",
   "execution_count": 51,
   "id": "df0690e8",
   "metadata": {},
   "outputs": [
    {
     "data": {
      "text/plain": [
       "2486"
      ]
     },
     "execution_count": 51,
     "metadata": {},
     "output_type": "execute_result"
    }
   ],
   "source": [
    "## remove the missed values \n",
    "\n",
    "df12 = df10.drop(index_list2)\n",
    "len(df12)"
   ]
  },
  {
   "cell_type": "code",
   "execution_count": 52,
   "id": "cda8e46b",
   "metadata": {},
   "outputs": [
    {
     "data": {
      "text/html": [
       "<div>\n",
       "<style scoped>\n",
       "    .dataframe tbody tr th:only-of-type {\n",
       "        vertical-align: middle;\n",
       "    }\n",
       "\n",
       "    .dataframe tbody tr th {\n",
       "        vertical-align: top;\n",
       "    }\n",
       "\n",
       "    .dataframe thead th {\n",
       "        text-align: right;\n",
       "    }\n",
       "</style>\n",
       "<table border=\"1\" class=\"dataframe\">\n",
       "  <thead>\n",
       "    <tr style=\"text-align: right;\">\n",
       "      <th></th>\n",
       "      <th>Artist</th>\n",
       "      <th>Title</th>\n",
       "    </tr>\n",
       "  </thead>\n",
       "  <tbody>\n",
       "    <tr>\n",
       "      <th>0</th>\n",
       "      <td>Ed Sheeran</td>\n",
       "      <td>The A Team</td>\n",
       "    </tr>\n",
       "    <tr>\n",
       "      <th>1</th>\n",
       "      <td>Fifth Harmony</td>\n",
       "      <td>BO$$</td>\n",
       "    </tr>\n",
       "    <tr>\n",
       "      <th>2</th>\n",
       "      <td>Rod Wave</td>\n",
       "      <td>Pray 4 Love</td>\n",
       "    </tr>\n",
       "    <tr>\n",
       "      <th>3</th>\n",
       "      <td>Mac DeMarco</td>\n",
       "      <td>Chamber Of Reflection</td>\n",
       "    </tr>\n",
       "    <tr>\n",
       "      <th>4</th>\n",
       "      <td>Christina Aguilera</td>\n",
       "      <td>Have Yourself a Merry Little Christmas</td>\n",
       "    </tr>\n",
       "    <tr>\n",
       "      <th>...</th>\n",
       "      <td>...</td>\n",
       "      <td>...</td>\n",
       "    </tr>\n",
       "    <tr>\n",
       "      <th>2481</th>\n",
       "      <td>Chucho Flash</td>\n",
       "      <td>Tu Sabes Que Te Quiero</td>\n",
       "    </tr>\n",
       "    <tr>\n",
       "      <th>2482</th>\n",
       "      <td>One Direction</td>\n",
       "      <td>You &amp; I</td>\n",
       "    </tr>\n",
       "    <tr>\n",
       "      <th>2483</th>\n",
       "      <td>Lizzo</td>\n",
       "      <td>Soulmate</td>\n",
       "    </tr>\n",
       "    <tr>\n",
       "      <th>2484</th>\n",
       "      <td>Lil Uzi Vert</td>\n",
       "      <td>Secure The Bag</td>\n",
       "    </tr>\n",
       "    <tr>\n",
       "      <th>2485</th>\n",
       "      <td>Summer Walker</td>\n",
       "      <td>4th Baby Mama  Prelude</td>\n",
       "    </tr>\n",
       "  </tbody>\n",
       "</table>\n",
       "<p>2486 rows × 2 columns</p>\n",
       "</div>"
      ],
      "text/plain": [
       "                   Artist                                   Title\n",
       "0             Ed Sheeran                               The A Team\n",
       "1          Fifth Harmony                                     BO$$\n",
       "2               Rod Wave                              Pray 4 Love\n",
       "3            Mac DeMarco                    Chamber Of Reflection\n",
       "4     Christina Aguilera   Have Yourself a Merry Little Christmas\n",
       "...                   ...                                     ...\n",
       "2481        Chucho Flash                   Tu Sabes Que Te Quiero\n",
       "2482       One Direction                                  You & I\n",
       "2483               Lizzo                                 Soulmate\n",
       "2484        Lil Uzi Vert                           Secure The Bag\n",
       "2485       Summer Walker                   4th Baby Mama  Prelude\n",
       "\n",
       "[2486 rows x 2 columns]"
      ]
     },
     "execution_count": 52,
     "metadata": {},
     "output_type": "execute_result"
    }
   ],
   "source": [
    "df13 = df12.reset_index(drop=True)\n",
    "df13"
   ]
  },
  {
   "cell_type": "code",
   "execution_count": 54,
   "id": "81367a4d",
   "metadata": {},
   "outputs": [],
   "source": [
    "#df13 is old data and df11 is the expanded data.\n",
    "add_audio_features(df13, df11)"
   ]
  },
  {
   "cell_type": "code",
   "execution_count": null,
   "id": "fbc3abad",
   "metadata": {},
   "outputs": [],
   "source": []
  },
  {
   "cell_type": "code",
   "execution_count": null,
   "id": "e3f78305",
   "metadata": {},
   "outputs": [],
   "source": []
  }
 ],
 "metadata": {
  "kernelspec": {
   "display_name": "Python 3 (ipykernel)",
   "language": "python",
   "name": "python3"
  },
  "language_info": {
   "codemirror_mode": {
    "name": "ipython",
    "version": 3
   },
   "file_extension": ".py",
   "mimetype": "text/x-python",
   "name": "python",
   "nbconvert_exporter": "python",
   "pygments_lexer": "ipython3",
   "version": "3.9.12"
  }
 },
 "nbformat": 4,
 "nbformat_minor": 5
}
